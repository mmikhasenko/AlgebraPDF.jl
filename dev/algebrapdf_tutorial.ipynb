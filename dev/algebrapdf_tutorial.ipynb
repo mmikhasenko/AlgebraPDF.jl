{
 "cells": [
  {
   "cell_type": "markdown",
   "source": [
    "# AlgebraPDF.jl Tutorial"
   ],
   "metadata": {}
  },
  {
   "cell_type": "markdown",
   "source": [
    "This tutorial guides the user through the basic example of\n",
    "creating a density function which is a sum of a gaussian signal peak,\n",
    "and exponential background, sampling from the distribution,\n",
    "and optimizating its parameters with an unbinned fit."
   ],
   "metadata": {}
  },
  {
   "outputs": [],
   "cell_type": "code",
   "source": [
    "using AlgebraPDF, AlgebraPDF.Parameters\n",
    "using LinearAlgebra, Optim\n",
    "\n",
    "using Random\n",
    "Random.seed!(100)\n",
    "\n",
    "using Plots\n",
    "theme(\n",
    "    :wong,\n",
    "    frame = :box,\n",
    "    xlab = \"x\",\n",
    "    lab = \"\",\n",
    "    minorticks = true,\n",
    "    guidefontvalign = :top,\n",
    "    guidefonthalign = :right,\n",
    "    xlim = (:auto, :auto),\n",
    "    ylim = (0, :auto),\n",
    "    grid = false,\n",
    ")"
   ],
   "metadata": {},
   "execution_count": null
  },
  {
   "cell_type": "markdown",
   "source": [
    "## Function With Parameters"
   ],
   "metadata": {}
  },
  {
   "cell_type": "markdown",
   "source": [
    "The package provides a standard wrapper of a function with parameters `f(x;p)`,\n",
    "where `x` is function variable, `p` is a structure that holds parameters\n",
    "with their names. The simplest and the most common case is where `x` would be a number,\n",
    "and `p` is a named tuple. For example,"
   ],
   "metadata": {}
  },
  {
   "outputs": [],
   "cell_type": "code",
   "source": [
    "myf(x; p = (a = 1.1, b = 2.2)) = x * p.a + p.b / x;"
   ],
   "metadata": {},
   "execution_count": null
  },
  {
   "cell_type": "markdown",
   "source": [
    "The module introduces a type `FunctionWithParameters`,\n",
    "which intends to behave like the `myf` from the user prospective."
   ],
   "metadata": {}
  },
  {
   "cell_type": "markdown",
   "source": [
    "## Predefined function"
   ],
   "metadata": {}
  },
  {
   "cell_type": "markdown",
   "source": [
    "The gaussian function is constructed calling a specific type `FGauss`,\n",
    "and giving a tuple of parameters with their default values"
   ],
   "metadata": {}
  },
  {
   "outputs": [],
   "cell_type": "code",
   "source": [
    "gaussian = FGauss((μ = 1.1, σ = 0.9))"
   ],
   "metadata": {},
   "execution_count": null
  },
  {
   "cell_type": "markdown",
   "source": [
    "It is on of the predefined examples of functions with parameters, `FGauss <: AbstractFunctionWithParameters`.\n",
    "The object is callable like a regular function"
   ],
   "metadata": {}
  },
  {
   "outputs": [],
   "cell_type": "code",
   "source": [
    "gaussian(1.1)"
   ],
   "metadata": {},
   "execution_count": null
  },
  {
   "cell_type": "markdown",
   "source": [
    "when array is passed, the function is broadcasted"
   ],
   "metadata": {}
  },
  {
   "outputs": [],
   "cell_type": "code",
   "source": [
    "gaussian(-1.8:0.9:1)"
   ],
   "metadata": {},
   "execution_count": null
  },
  {
   "cell_type": "markdown",
   "source": [
    "Default values of the parameters can be accessed with `pars`, and `freepars` method."
   ],
   "metadata": {}
  },
  {
   "outputs": [],
   "cell_type": "code",
   "source": [
    "pars(gaussian)"
   ],
   "metadata": {},
   "execution_count": null
  },
  {
   "cell_type": "markdown",
   "source": [
    "One can provide the key argument `p` with the named tuple of parameters.\n",
    "These tuple is always used instread of the default values."
   ],
   "metadata": {}
  },
  {
   "outputs": [],
   "cell_type": "code",
   "source": [
    "gaussian(0.0; p = (; μ = 1.1, σ = 0.9))"
   ],
   "metadata": {},
   "execution_count": null
  },
  {
   "cell_type": "markdown",
   "source": [
    "The parameters can be adjusted"
   ],
   "metadata": {}
  },
  {
   "outputs": [],
   "cell_type": "code",
   "source": [
    "gaussian(0.0; p = (; μ = 0.0, σ = 1.9))"
   ],
   "metadata": {},
   "execution_count": null
  },
  {
   "cell_type": "markdown",
   "source": [
    "Similar to the regular fuction, the object can be plotted."
   ],
   "metadata": {}
  },
  {
   "outputs": [],
   "cell_type": "code",
   "source": [
    "plot(gaussian, -4, 7, fill = 0, α = 0.8)"
   ],
   "metadata": {},
   "execution_count": null
  },
  {
   "cell_type": "markdown",
   "source": [
    "Exponential function is another lineshape defined in the package.\n",
    "We are using the expnential distribution with a slope `α` to define the background to our gaussian signal."
   ],
   "metadata": {}
  },
  {
   "outputs": [],
   "cell_type": "code",
   "source": [
    "exponential = FExp((; α = -0.2))"
   ],
   "metadata": {},
   "execution_count": null
  },
  {
   "cell_type": "markdown",
   "source": [
    "## Normalization"
   ],
   "metadata": {}
  },
  {
   "cell_type": "markdown",
   "source": [
    "To turn an arbitrary function to the probability density,\n",
    "one need to introduce normalization.\n",
    "This is done by attaching the range (support) to the function."
   ],
   "metadata": {}
  },
  {
   "outputs": [],
   "cell_type": "code",
   "source": [
    "nGaussian = Normalized(gaussian, (-4, 7))"
   ],
   "metadata": {},
   "execution_count": null
  },
  {
   "cell_type": "markdown",
   "source": [
    "The same is archived with the pipeline."
   ],
   "metadata": {}
  },
  {
   "outputs": [],
   "cell_type": "code",
   "source": [
    "@assert nGaussian == gaussian |> Normalized((-4, 7))"
   ],
   "metadata": {},
   "execution_count": null
  },
  {
   "cell_type": "markdown",
   "source": [
    "The normalized object has the call method regular function.\n",
    "The normalization is computed on fly.\n",
    "It is constly for a single-value call."
   ],
   "metadata": {}
  },
  {
   "outputs": [],
   "cell_type": "code",
   "source": [
    "nGaussian(1.1)"
   ],
   "metadata": {},
   "execution_count": null
  },
  {
   "cell_type": "markdown",
   "source": [
    " When calling on iterable collection, the normalization is computed once."
   ],
   "metadata": {}
  },
  {
   "outputs": [],
   "cell_type": "code",
   "source": [
    "nGaussian(-1.8:0.9:1)"
   ],
   "metadata": {},
   "execution_count": null
  },
  {
   "cell_type": "markdown",
   "source": [
    "As before, the parameters can be updates by passing a named tuple"
   ],
   "metadata": {}
  },
  {
   "outputs": [],
   "cell_type": "code",
   "source": [
    "nGaussian(0.0; p = (; μ = 1.1, σ = 0.9))"
   ],
   "metadata": {},
   "execution_count": null
  },
  {
   "cell_type": "markdown",
   "source": [
    "For plotting of the normalized function, one does not need to specify the range."
   ],
   "metadata": {}
  },
  {
   "outputs": [],
   "cell_type": "code",
   "source": [
    "plot(nGaussian, fill = 0, α = 0.7)"
   ],
   "metadata": {},
   "execution_count": null
  },
  {
   "cell_type": "markdown",
   "source": [
    "Analogously,"
   ],
   "metadata": {}
  },
  {
   "outputs": [],
   "cell_type": "code",
   "source": [
    "nExponent = exponential |> Normalized((-4, 7))"
   ],
   "metadata": {},
   "execution_count": null
  },
  {
   "cell_type": "markdown",
   "source": [
    "## Summation of Functions"
   ],
   "metadata": {}
  },
  {
   "cell_type": "markdown",
   "source": [
    "Now, we can explore how to sum different types of functions or distributions.\n",
    "Summing functions is essential part of the package functionality that allows one to model more complex distributions."
   ],
   "metadata": {}
  },
  {
   "cell_type": "markdown",
   "source": [
    "Here, we create a model that is a sum of the previously defined normalized exponential function and the normalized Gaussian function."
   ],
   "metadata": {}
  },
  {
   "outputs": [],
   "cell_type": "code",
   "source": [
    "model = FSum([nExponent, nGaussian], (N1 = 0.85, N2 = 0.15))"
   ],
   "metadata": {},
   "execution_count": null
  },
  {
   "cell_type": "markdown",
   "source": [
    "The sum of functions, is an object of type `FSum`, that hold a list of functions and their weights in static vectors of equal sizes.\n",
    "There is an alternative way to formulate an equivalent model"
   ],
   "metadata": {}
  },
  {
   "outputs": [],
   "cell_type": "code",
   "source": [
    "@assert model == nExponent * (N1 = 0.85,) + nGaussian * (N2 = 0.15,)"
   ],
   "metadata": {},
   "execution_count": null
  },
  {
   "cell_type": "markdown",
   "source": [
    "where the product of the function with a named tuple return `FSum` object. The summation between two `FSum` objects is defined.\n",
    "Complementary, individual components with their weight can be accessed by indexing the `FSum` object as in the following protting code."
   ],
   "metadata": {}
  },
  {
   "outputs": [],
   "cell_type": "code",
   "source": [
    "begin\n",
    "    plot(model)\n",
    "    plot!(model[1], ls = :dash, lab = \"background\")\n",
    "    plot!(model[2], fill = 0, lab = \"signal\")\n",
    "end"
   ],
   "metadata": {},
   "execution_count": null
  },
  {
   "cell_type": "markdown",
   "source": [
    "## Sampling from the model"
   ],
   "metadata": {}
  },
  {
   "cell_type": "markdown",
   "source": [
    "Sampling from a model is a key operation in statistical modeling.\n",
    "`AlgebraPDF.jl` implements sampling through the numerical Inversion Method."
   ],
   "metadata": {}
  },
  {
   "cell_type": "markdown",
   "source": [
    "Here, we sample data points from our model."
   ],
   "metadata": {}
  },
  {
   "outputs": [],
   "cell_type": "code",
   "source": [
    "@time data = AlgebraPDF.rand(model, 10_000)"
   ],
   "metadata": {},
   "execution_count": null
  },
  {
   "cell_type": "markdown",
   "source": [
    "Plotting the sampled data as a histogram gives us a visual representation of the distribution."
   ],
   "metadata": {}
  },
  {
   "outputs": [],
   "cell_type": "code",
   "source": [
    "stephist(data, bins = 100)"
   ],
   "metadata": {},
   "execution_count": null
  },
  {
   "cell_type": "markdown",
   "source": [
    "An equidistant grid is used.\n",
    "Adjusting the grid size for sampling can impact the sampling process,\n",
    "check `generate` method for details."
   ],
   "metadata": {}
  },
  {
   "cell_type": "markdown",
   "source": [
    "## Likelihood and Model Fitting"
   ],
   "metadata": {}
  },
  {
   "cell_type": "markdown",
   "source": [
    "The concept of unbinned likelihood is central to many statistical models.\n",
    "In `AlgebraPDF.jl`, the negative log-likelihood is implemented.\n",
    "Creating a negative log-likelihood function for our model and data."
   ],
   "metadata": {}
  },
  {
   "outputs": [],
   "cell_type": "code",
   "source": [
    "nll = NegativeLogLikelihood(model, data)"
   ],
   "metadata": {},
   "execution_count": null
  },
  {
   "cell_type": "markdown",
   "source": [
    "Evaluating the negative log-likelihood gives us an idea of how well the model fits the data.\n",
    "The negative log likelihood function depends only on the model parameters, not on the variable `x`."
   ],
   "metadata": {}
  },
  {
   "outputs": [],
   "cell_type": "code",
   "source": [
    "nll(1.0), nll(0.0), nll(())"
   ],
   "metadata": {},
   "execution_count": null
  },
  {
   "cell_type": "markdown",
   "source": [
    "The extended version adds a Poisson factor for the total number of events with expectation given by\n",
    "the norm of the model, constraining the model normalization to the number of size of the data sample."
   ],
   "metadata": {}
  },
  {
   "outputs": [],
   "cell_type": "code",
   "source": [
    "ext = Extended(nll)"
   ],
   "metadata": {},
   "execution_count": null
  },
  {
   "cell_type": "markdown",
   "source": [
    "To fit the model to the data, we need to find the parameter values that minimize the extended NLL.\n",
    "We start by setting initial values for the parameters, most importantly\n",
    "the normalization that is going to be constrained to size of the data set."
   ],
   "metadata": {}
  },
  {
   "outputs": [],
   "cell_type": "code",
   "source": [
    "starting_values = let\n",
    "    Nd = length(data)\n",
    "    default_values = pars(ext)\n",
    "    @unpack N1, N2 = default_values\n",
    "    Nsum = N1 + N2\n",
    "    merge(default_values, (N1 = N1 / Nsum * Nd, N2 = N2 / Nsum * Nd))\n",
    "end"
   ],
   "metadata": {},
   "execution_count": null
  },
  {
   "cell_type": "markdown",
   "source": [
    "When the optimization to fit the model to the data,\n",
    "using a reasonable guess for the inverse hessian matrix helps the initial steps of the optimization.\n",
    "The diagonal elements of the invesse hessian reflect the typical variation of the parameters.\n",
    "The parameter uncertainties in the minimum are often taken as square root of the diagonal elements."
   ],
   "metadata": {}
  },
  {
   "outputs": [],
   "cell_type": "code",
   "source": [
    "@time fit = let\n",
    "    initial_invH = Diagonal([0.001, 0.01, 0.01, 100, 100]) .+ eps()\n",
    "\n",
    "    optimize(\n",
    "        x -> ext(1.1, x),\n",
    "        starting_values |> collect,\n",
    "        BFGS(; initial_invH = x -> initial_invH),\n",
    "    )\n",
    "end"
   ],
   "metadata": {},
   "execution_count": null
  },
  {
   "cell_type": "markdown",
   "source": [
    "Once we have the best-fit parameters, we can update our model and compare it to the original data."
   ],
   "metadata": {}
  },
  {
   "outputs": [],
   "cell_type": "code",
   "source": [
    "best_model = updatepars(model, NamedTuple{keys(pars(model))}(fit.minimizer))"
   ],
   "metadata": {},
   "execution_count": null
  },
  {
   "cell_type": "markdown",
   "source": [
    "Plotting the original data, and the best-fit model helps us evaluate the fitting process."
   ],
   "metadata": {}
  },
  {
   "outputs": [],
   "cell_type": "code",
   "source": [
    "let\n",
    "    bins = range(lims(model)..., 100)\n",
    "    Nd = length(data)\n",
    "\n",
    "    stephist(data; bins)\n",
    "    plot!(model, scaletobinneddata(Nd, bins), lab = \"original\")\n",
    "    plot!(best_model, scaletobinneddata(bins), lab = \"fit\")\n",
    "\n",
    "    plot!(best_model[2], scaletobinneddata(bins), fill = 0, lab = \"signal\")\n",
    "    plot!(best_model[1], scaletobinneddata(bins), ls = :dash, lab = \"background\")\n",
    "end"
   ],
   "metadata": {},
   "execution_count": null
  },
  {
   "cell_type": "markdown",
   "source": [
    "---\n",
    "\n",
    "*This notebook was generated using [Literate.jl](https://github.com/fredrikekre/Literate.jl).*"
   ],
   "metadata": {}
  }
 ],
 "nbformat_minor": 3,
 "metadata": {
  "language_info": {
   "file_extension": ".jl",
   "mimetype": "application/julia",
   "name": "julia",
   "version": "1.11.2"
  },
  "kernelspec": {
   "name": "julia-1.11",
   "display_name": "Julia 1.11.2",
   "language": "julia"
  }
 },
 "nbformat": 4
}
